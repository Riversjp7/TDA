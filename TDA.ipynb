{
 "cells": [
  {
   "cell_type": "markdown",
   "metadata": {},
   "source": [
    "Algorithm 1 Constructing a simplicial complex filtered by a multidimensional dissimilarity measure.\n",
    "\n",
    "Input: Point cloud P, measure dsim, eps, maximal dimension dim\n",
    "Output: Filtered complex K\n",
    "\n",
    "(K0, K1) := graph over P weighted by dsim\n",
    "\n",
    "Let nr(v) be the unique index of each vertex v ∈ K0.\n",
    "for d = 2. . . dim do\n",
    "Kd = ∅\n",
    "    for each d-simplex S in Kd−1 do\n",
    "        for each vertex e adjacent to any vertex of S do\n",
    "            if nr(e) > maxv∈S{nr(v)} {Note that each simplex is created and added\n",
    "                                    only once and that e /∈ S.} \n",
    "                then N = S ∪ e {N is a new d+1 simplex.}\n",
    "                if dsim(N) ≤ eps \n",
    "                then Kd = Kd ∪ N {All faces of N are already in K. }\n",
    "return K = (K0, . . . , Kdim)"
   ]
  },
  {
   "cell_type": "code",
   "execution_count": 2,
   "metadata": {},
   "outputs": [],
   "source": [
    "from mpl_toolkits import mplot3d\n",
    "import numpy as np\n",
    "import pandas as pd\n",
    "import matplotlib.pyplot as plt\n",
    "import random as rnd"
   ]
  },
  {
   "cell_type": "code",
   "execution_count": 9,
   "metadata": {},
   "outputs": [
    {
     "name": "stdout",
     "output_type": "stream",
     "text": [
      "[[5 1 2]\n",
      " [3 4 4]]\n",
      "[5 1 2]\n",
      "[3 4 4]\n"
     ]
    }
   ],
   "source": [
    "#x=lambda : rnd.gauss(0,5)\n",
    "#y=rnd.randrange(0,1,100)\n",
    "#x=np.array(np.arange(1,10))\n",
    "#y=np.array(np.ones((1,len(x)),int)*2)\n",
    "m=np.random.randint(low=1,high=6,size=(2,3))\n",
    "x=m[0]\n",
    "y=m[1]\n",
    "print(m,x,y,sep=\"\\n\")"
   ]
  },
  {
   "cell_type": "code",
   "execution_count": 12,
   "metadata": {},
   "outputs": [
    {
     "name": "stdout",
     "output_type": "stream",
     "text": [
      "[[5]\n",
      " [1]\n",
      " [2]]\n",
      "[[3]\n",
      " [4]\n",
      " [4]]\n",
      "[[ 0 -4 -3]\n",
      " [ 4  0  1]\n",
      " [ 3 -1  0]]\n",
      "[[ 0  1  1]\n",
      " [-1  0  0]\n",
      " [-1  0  0]]\n"
     ]
    },
    {
     "data": {
      "text/plain": [
       "array([[0.        , 4.12310563, 3.16227766],\n",
       "       [4.12310563, 0.        , 1.        ],\n",
       "       [3.16227766, 1.        , 0.        ]])"
      ]
     },
     "execution_count": 12,
     "metadata": {},
     "output_type": "execute_result"
    }
   ],
   "source": [
    "def dsim(x,y):\n",
    "    t=x[:,None]\n",
    "    yt=y[:,None]\n",
    "    q=np.sqrt((x-t)**2+(y-yt)**2)\n",
    "    print(t,yt,x-t,y-yt,sep=\"\\n\")\n",
    "    return q\n",
    "dsim(x,y)\n"
   ]
  },
  {
   "cell_type": "code",
   "execution_count": 18,
   "metadata": {},
   "outputs": [
    {
     "name": "stdout",
     "output_type": "stream",
     "text": [
      "[[0.         4.12310563 3.16227766]\n",
      " [4.12310563 0.         1.        ]\n",
      " [3.16227766 1.         0.        ]]\n"
     ]
    }
   ],
   "source": [
    "\n",
    "def dsim(m):\n",
    "    dray=[]\n",
    "    for i in range(m.shape[0]):\n",
    "        mt=m[i][:,None]\n",
    "        sqRes=(m[i]-mt)**2\n",
    "        if i == 0:\n",
    "            dray=sqRes[:]\n",
    "        else: \n",
    "            dray+= sqRes[:]\n",
    "    return np.sqrt(dray)\n",
    "print(dsim(m))\n",
    "\n"
   ]
  },
  {
   "cell_type": "code",
   "execution_count": 223,
   "metadata": {},
   "outputs": [
    {
     "name": "stdout",
     "output_type": "stream",
     "text": [
      "[1.         3.16227766 4.12310563 5.6        7.3        9.9       ]\n",
      "5.6\n"
     ]
    }
   ],
   "source": [
    "edsim=dsim(m)\n",
    "edsimSort=np.unique(np.sort(np.insert(edsim.reshape(-1),[1],[5.6,7.3,9.9],0)))[1:]\n",
    "edsQ3=edsimSort[3*(len(edsimSort)-1)//4]\n",
    "print(edsimSort,edsQ3,sep=\"\\n\")"
   ]
  },
  {
   "cell_type": "code",
   "execution_count": 306,
   "metadata": {},
   "outputs": [
    {
     "name": "stdout",
     "output_type": "stream",
     "text": [
      "[4.123105625617661 3.1622776601683795 1.0]\n",
      "[1.0 3.1622776601683795 4.123105625617661 5.6 7.3 9.9]\n",
      "5.6\n"
     ]
    }
   ],
   "source": [
    "\n",
    "ddsim=[]\n",
    "for i in range(edsim.shape[0]):\n",
    "  ddsim.append(np.delete(edsim[i], np.s_[i::],0))\n",
    "ddsimArray=np.concatenate(ddsim[::],dtype='object')\n",
    "ddIns=np.sort(np.insert(ddsimArray,[1],[5.6,7.3,9.9],0))\n",
    "ddQ3=ddIns[3*(len(ddIns)-1)//4]\n",
    "print(ddsimArray, ddIns,ddQ3,sep=\"\\n\")\n"
   ]
  },
  {
   "cell_type": "code",
   "execution_count": 56,
   "metadata": {},
   "outputs": [
    {
     "data": {
      "image/png": "[encoded data removed]",
      "text/plain": [
       "<Figure size 640x480 with 1 Axes>"
      ]
     },
     "metadata": {},
     "output_type": "display_data"
    }
   ],
   "source": [
    "xray=np.linspace(1,100,100)\n",
    "line=np.ones(100)\n",
    "#print(xray[:,None])\n",
    "plt.plot(xray*line[:,None],'k.')\n",
    "plt.show()"
   ]
  },
  {
   "cell_type": "code",
   "execution_count": 317,
   "metadata": {},
   "outputs": [
    {
     "data": {
      "image/png": "[encoded data removed]",
      "text/plain": [
       "<Figure size 640x480 with 1 Axes>"
      ]
     },
     "metadata": {},
     "output_type": "display_data"
    }
   ],
   "source": [
    "fig = plt.figure()\n",
    "ax = plt.axes(projection=\"3d\")\n",
    "\n",
    "x=np.linspace(0,100,4)\n",
    "y=np.copy(x)\n",
    "z=np.copy(x)\n",
    "\n",
    "X,Y,Z=np.meshgrid(x,y,z,indexing='ij')\n",
    "ax.scatter3D(X,Y,Z)\n",
    "plt.axis(\"off\")\n",
    "plt.show()"
   ]
  },
  {
   "cell_type": "code",
   "execution_count": 354,
   "metadata": {},
   "outputs": [
    {
     "name": "stdout",
     "output_type": "stream",
     "text": [
      "0.8213266852748242\n",
      "0 0\n",
      "0 3\n",
      "0 4\n",
      "0 5\n",
      "0 7\n",
      "0 8\n",
      "1 1\n",
      "1 2\n",
      "1 4\n",
      "1 5\n",
      "1 6\n",
      "1 9\n",
      "2 1\n",
      "2 2\n",
      "2 4\n",
      "2 5\n",
      "2 6\n",
      "2 8\n",
      "2 9\n",
      "3 0\n",
      "3 3\n",
      "3 4\n",
      "3 5\n",
      "3 7\n",
      "3 8\n",
      "3 9\n",
      "4 0\n",
      "4 1\n",
      "4 2\n",
      "4 3\n",
      "4 4\n",
      "4 5\n",
      "4 6\n",
      "4 7\n",
      "4 8\n",
      "4 9\n",
      "5 0\n",
      "5 1\n",
      "5 2\n",
      "5 3\n",
      "5 4\n",
      "5 5\n",
      "5 6\n",
      "5 7\n",
      "5 8\n",
      "5 9\n",
      "6 1\n",
      "6 2\n",
      "6 4\n",
      "6 5\n",
      "6 6\n",
      "6 8\n",
      "6 9\n",
      "7 0\n",
      "7 3\n",
      "7 4\n",
      "7 5\n",
      "7 7\n",
      "7 8\n",
      "7 9\n",
      "8 0\n",
      "8 2\n",
      "8 3\n",
      "8 4\n",
      "8 5\n",
      "8 6\n",
      "8 7\n",
      "8 8\n",
      "8 9\n",
      "9 1\n",
      "9 2\n",
      "9 3\n",
      "9 4\n",
      "9 5\n",
      "9 6\n",
      "9 7\n",
      "9 8\n",
      "9 9\n"
     ]
    },
    {
     "data": {
      "text/plain": [
       "[<matplotlib.lines.Line2D at 0x7f7a95d35100>]"
      ]
     },
     "execution_count": 354,
     "metadata": {},
     "output_type": "execute_result"
    },
    {
     "data": {
      "image/png": "[encoded data removed]",
      "text/plain": [
       "<Figure size 640x480 with 1 Axes>"
      ]
     },
     "metadata": {},
     "output_type": "display_data"
    }
   ],
   "source": [
    "r=np.random.rand(2,10)\n",
    "#print(r[0],r[1])\n",
    "rdsim=dsim(r)\n",
    "#print(rdsim)\n",
    "rSort=np.unique(np.sort(rdsim.reshape(-1)))[1:]\n",
    "rQ3=rSort[3*(len(rSort)-1)//4]\n",
    "print(rQ3)\n",
    "plt.plot(r[0],r[1], 'k.')\n",
    "splitIndex=np.array(np.where(rdsim<=rQ3), dtype='object')\n",
    "izip=zip(splitIndex[0],splitIndex[1])\n",
    "for (x,y) in izip:\n",
    "    print(x,y) \n",
    "plt.plot(r[0][np.where(r[0]<=rQ3)],r[1][np.where(r[0]<=rQ3)],'r-')\n"
   ]
  }
 ],
 "metadata": {
  "kernelspec": {
   "display_name": "Python 3.8.16 ('base')",
   "language": "python",
   "name": "python3"
  },
  "language_info": {
   "codemirror_mode": {
    "name": "ipython",
    "version": 3
   },
   "file_extension": ".py",
   "mimetype": "text/x-python",
   "name": "python",
   "nbconvert_exporter": "python",
   "pygments_lexer": "ipython3",
   "version": "3.8.16"
  },
  "orig_nbformat": 4,
  "vscode": {
   "interpreter": {
    "hash": "ddd102f6bf87ebd43b0121ef299fbaa7a8191c210755cdc76b22fc011b9b8a23"
   }
  }
 },
 "nbformat": 4,
 "nbformat_minor": 2
}
